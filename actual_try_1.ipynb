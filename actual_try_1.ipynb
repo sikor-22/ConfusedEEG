{
 "cells": [
  {
   "cell_type": "code",
   "execution_count": 13,
   "metadata": {},
   "outputs": [],
   "source": [
    "#imports and basic splits\n",
    "import numpy as np\n",
    "import tensorflow.keras as kr\n",
    "from sklearn.model_selection import train_test_split\n",
    "from tensorflow.keras.layers import Dense, Dropout, Flatten, Conv2D, MaxPooling2D\n",
    "from tensorflow.keras.utils import to_categorical\n",
    "data = np.load(\"EEG_useful.npy\", allow_pickle = True)\n",
    "X_data = data[:, :, 2:11]\n",
    "Y_data = data[:, :, 11]\n",
    "X_data = X_data.astype(int)\n",
    "Y_data = Y_data.astype(int)\n",
    "Y_data = Y_data[:, 0:110:110]"
   ]
  },
  {
   "cell_type": "code",
   "execution_count": 14,
   "metadata": {},
   "outputs": [
    {
     "name": "stdout",
     "output_type": "stream",
     "text": [
      "(65, 110, 9)\n"
     ]
    }
   ],
   "source": [
    "#data split\n",
    "x_train, x_test, y_train, y_test = train_test_split(X_data, Y_data, train_size=0.65,test_size=0.35, random_state=101)\n",
    "print(x_train.shape)"
   ]
  },
  {
   "cell_type": "code",
   "execution_count": 15,
   "metadata": {},
   "outputs": [
    {
     "name": "stdout",
     "output_type": "stream",
     "text": [
      "(35, 2)\n"
     ]
    }
   ],
   "source": [
    "\n",
    "y_train = to_categorical(y_train, 2)\n",
    "y_test = to_categorical(y_test, 2)\n",
    "print(y_test.shape)\n"
   ]
  },
  {
   "cell_type": "code",
   "execution_count": 16,
   "metadata": {},
   "outputs": [],
   "source": [
    "#wydzielenie wykresow i normalizacja | singling out graphs and normalization\n",
    "x_train_arr = []\n",
    "x_test_arr = []\n",
    "for i in range(x_train.shape[2]): \n",
    "    x_train_arr.append(x_train[:, :, i])\n",
    "    x_test_arr.append(x_test[:, :, i])\n",
    "    #x_train_arr[i] = x_train_arr[i].reshape(x_train_arr[i].shape[0], x_train_arr[i].shape[1], 1)\n",
    "    #x_test_arr[i] = x_test_arr[i].reshape(x_test_arr[i].shape[0], x_test_arr[i].shape[1], 1)\n",
    "    max_value = np.max(x_train_arr[i])\n",
    "    if max_value > np.max(x_test_arr[i]):\n",
    "        max_value = np.max(x_test_arr[i])\n",
    "    x_train_arr[i], x_test_arr[i] = x_train_arr[i].astype(float)/(max_value/10), x_test_arr[i].astype(float)/(max_value/10)\n"
   ]
  },
  {
   "cell_type": "code",
   "execution_count": 24,
   "metadata": {},
   "outputs": [],
   "source": [
    "#keras model using functional API, every graph type is its own input, three sequential layers, later concatenated\n",
    "input_arr = []\n",
    "branch_arr = []\n",
    "for i in range(x_train.shape[2]):\n",
    "    input_arr.append(kr.Input(shape = (x_train_arr[i].shape[1])))\n",
    "    branch_arr.append(None)\n",
    "    branch_arr[i] = Dense(64, activation = \"relu\")(input_arr[i])\n",
    "    branch_arr[i] = Dense(32, activation = \"relu\")(branch_arr[i])\n",
    "    branch_arr[i] = Dropout(0.10)(branch_arr[i])\n",
    "    branch_arr[i] = Dense(16, activation = \"relu\")(branch_arr[i])\n",
    "    branch_arr[i] = kr.Model(inputs = input_arr[i], outputs = branch_arr[i])\n",
    "combined_branch = kr.layers.concatenate([branch_arr[i].output for i in range(x_train.shape[2])])\n",
    "combined_NN = Dense(32, activation = \"relu\")(combined_branch)\n",
    "combined_NN = Dense(2, activation=\"softmax\")(combined_NN)\n",
    "EEG_model_MI = kr.Model(inputs = input_arr, outputs = combined_NN)"
   ]
  },
  {
   "cell_type": "code",
   "execution_count": 25,
   "metadata": {},
   "outputs": [
    {
     "name": "stdout",
     "output_type": "stream",
     "text": [
      "Model: \"model_49\"\n",
      "__________________________________________________________________________________________________\n",
      "Layer (type)                    Output Shape         Param #     Connected to                     \n",
      "==================================================================================================\n",
      "input_37 (InputLayer)           [(None, 110)]        0                                            \n",
      "__________________________________________________________________________________________________\n",
      "input_38 (InputLayer)           [(None, 110)]        0                                            \n",
      "__________________________________________________________________________________________________\n",
      "input_39 (InputLayer)           [(None, 110)]        0                                            \n",
      "__________________________________________________________________________________________________\n",
      "input_40 (InputLayer)           [(None, 110)]        0                                            \n",
      "__________________________________________________________________________________________________\n",
      "input_41 (InputLayer)           [(None, 110)]        0                                            \n",
      "__________________________________________________________________________________________________\n",
      "input_42 (InputLayer)           [(None, 110)]        0                                            \n",
      "__________________________________________________________________________________________________\n",
      "input_43 (InputLayer)           [(None, 110)]        0                                            \n",
      "__________________________________________________________________________________________________\n",
      "input_44 (InputLayer)           [(None, 110)]        0                                            \n",
      "__________________________________________________________________________________________________\n",
      "input_45 (InputLayer)           [(None, 110)]        0                                            \n",
      "__________________________________________________________________________________________________\n",
      "dense_116 (Dense)               (None, 64)           7104        input_37[0][0]                   \n",
      "__________________________________________________________________________________________________\n",
      "dense_119 (Dense)               (None, 64)           7104        input_38[0][0]                   \n",
      "__________________________________________________________________________________________________\n",
      "dense_122 (Dense)               (None, 64)           7104        input_39[0][0]                   \n",
      "__________________________________________________________________________________________________\n",
      "dense_125 (Dense)               (None, 64)           7104        input_40[0][0]                   \n",
      "__________________________________________________________________________________________________\n",
      "dense_128 (Dense)               (None, 64)           7104        input_41[0][0]                   \n",
      "__________________________________________________________________________________________________\n",
      "dense_131 (Dense)               (None, 64)           7104        input_42[0][0]                   \n",
      "__________________________________________________________________________________________________\n",
      "dense_134 (Dense)               (None, 64)           7104        input_43[0][0]                   \n",
      "__________________________________________________________________________________________________\n",
      "dense_137 (Dense)               (None, 64)           7104        input_44[0][0]                   \n",
      "__________________________________________________________________________________________________\n",
      "dense_140 (Dense)               (None, 64)           7104        input_45[0][0]                   \n",
      "__________________________________________________________________________________________________\n",
      "dense_117 (Dense)               (None, 32)           2080        dense_116[0][0]                  \n",
      "__________________________________________________________________________________________________\n",
      "dense_120 (Dense)               (None, 32)           2080        dense_119[0][0]                  \n",
      "__________________________________________________________________________________________________\n",
      "dense_123 (Dense)               (None, 32)           2080        dense_122[0][0]                  \n",
      "__________________________________________________________________________________________________\n",
      "dense_126 (Dense)               (None, 32)           2080        dense_125[0][0]                  \n",
      "__________________________________________________________________________________________________\n",
      "dense_129 (Dense)               (None, 32)           2080        dense_128[0][0]                  \n",
      "__________________________________________________________________________________________________\n",
      "dense_132 (Dense)               (None, 32)           2080        dense_131[0][0]                  \n",
      "__________________________________________________________________________________________________\n",
      "dense_135 (Dense)               (None, 32)           2080        dense_134[0][0]                  \n",
      "__________________________________________________________________________________________________\n",
      "dense_138 (Dense)               (None, 32)           2080        dense_137[0][0]                  \n",
      "__________________________________________________________________________________________________\n",
      "dense_141 (Dense)               (None, 32)           2080        dense_140[0][0]                  \n",
      "__________________________________________________________________________________________________\n",
      "dropout_36 (Dropout)            (None, 32)           0           dense_117[0][0]                  \n",
      "__________________________________________________________________________________________________\n",
      "dropout_37 (Dropout)            (None, 32)           0           dense_120[0][0]                  \n",
      "__________________________________________________________________________________________________\n",
      "dropout_38 (Dropout)            (None, 32)           0           dense_123[0][0]                  \n",
      "__________________________________________________________________________________________________\n",
      "dropout_39 (Dropout)            (None, 32)           0           dense_126[0][0]                  \n",
      "__________________________________________________________________________________________________\n",
      "dropout_40 (Dropout)            (None, 32)           0           dense_129[0][0]                  \n",
      "__________________________________________________________________________________________________\n",
      "dropout_41 (Dropout)            (None, 32)           0           dense_132[0][0]                  \n",
      "__________________________________________________________________________________________________\n",
      "dropout_42 (Dropout)            (None, 32)           0           dense_135[0][0]                  \n",
      "__________________________________________________________________________________________________\n",
      "dropout_43 (Dropout)            (None, 32)           0           dense_138[0][0]                  \n",
      "__________________________________________________________________________________________________\n",
      "dropout_44 (Dropout)            (None, 32)           0           dense_141[0][0]                  \n",
      "__________________________________________________________________________________________________\n",
      "dense_118 (Dense)               (None, 16)           528         dropout_36[0][0]                 \n",
      "__________________________________________________________________________________________________\n",
      "dense_121 (Dense)               (None, 16)           528         dropout_37[0][0]                 \n",
      "__________________________________________________________________________________________________\n",
      "dense_124 (Dense)               (None, 16)           528         dropout_38[0][0]                 \n",
      "__________________________________________________________________________________________________\n",
      "dense_127 (Dense)               (None, 16)           528         dropout_39[0][0]                 \n",
      "__________________________________________________________________________________________________\n",
      "dense_130 (Dense)               (None, 16)           528         dropout_40[0][0]                 \n",
      "__________________________________________________________________________________________________\n",
      "dense_133 (Dense)               (None, 16)           528         dropout_41[0][0]                 \n",
      "__________________________________________________________________________________________________\n",
      "dense_136 (Dense)               (None, 16)           528         dropout_42[0][0]                 \n",
      "__________________________________________________________________________________________________\n",
      "dense_139 (Dense)               (None, 16)           528         dropout_43[0][0]                 \n",
      "__________________________________________________________________________________________________\n",
      "dense_142 (Dense)               (None, 16)           528         dropout_44[0][0]                 \n",
      "__________________________________________________________________________________________________\n",
      "concatenate_4 (Concatenate)     (None, 144)          0           dense_118[0][0]                  \n",
      "                                                                 dense_121[0][0]                  \n",
      "                                                                 dense_124[0][0]                  \n",
      "                                                                 dense_127[0][0]                  \n",
      "                                                                 dense_130[0][0]                  \n",
      "                                                                 dense_133[0][0]                  \n",
      "                                                                 dense_136[0][0]                  \n",
      "                                                                 dense_139[0][0]                  \n",
      "                                                                 dense_142[0][0]                  \n",
      "__________________________________________________________________________________________________\n",
      "dense_143 (Dense)               (None, 32)           4640        concatenate_4[0][0]              \n",
      "__________________________________________________________________________________________________\n",
      "dense_144 (Dense)               (None, 2)            66          dense_143[0][0]                  \n",
      "==================================================================================================\n",
      "Total params: 92,114\n",
      "Trainable params: 92,114\n",
      "Non-trainable params: 0\n",
      "__________________________________________________________________________________________________\n"
     ]
    }
   ],
   "source": [
    "EEG_model_MI.compile(loss='categorical_crossentropy',\n",
    "      optimizer='adam',\n",
    "      metrics=['accuracy'])\n",
    "batch_size = 2\n",
    "n_epochs = 10\n",
    "EEG_model_MI.summary()\n"
   ]
  },
  {
   "cell_type": "code",
   "execution_count": 26,
   "metadata": {},
   "outputs": [
    {
     "name": "stdout",
     "output_type": "stream",
     "text": [
      "Epoch 1/10\n",
      "33/33 [==============================] - 1s 20ms/step - loss: 0.7570 - accuracy: 0.5538 - val_loss: 0.6376 - val_accuracy: 0.7143\n",
      "Epoch 2/10\n",
      "33/33 [==============================] - 0s 7ms/step - loss: 0.4574 - accuracy: 0.7692 - val_loss: 0.6523 - val_accuracy: 0.6286\n",
      "Epoch 3/10\n",
      "33/33 [==============================] - 0s 8ms/step - loss: 0.2801 - accuracy: 0.9538 - val_loss: 0.5812 - val_accuracy: 0.7143\n",
      "Epoch 4/10\n",
      "33/33 [==============================] - 0s 8ms/step - loss: 0.1882 - accuracy: 0.9692 - val_loss: 0.5762 - val_accuracy: 0.6286\n",
      "Epoch 5/10\n",
      "33/33 [==============================] - 0s 7ms/step - loss: 0.1078 - accuracy: 1.0000 - val_loss: 0.6323 - val_accuracy: 0.6857\n",
      "Epoch 6/10\n",
      "33/33 [==============================] - 0s 8ms/step - loss: 0.0841 - accuracy: 0.9692 - val_loss: 0.5352 - val_accuracy: 0.6857\n",
      "Epoch 7/10\n",
      "33/33 [==============================] - 0s 8ms/step - loss: 0.0618 - accuracy: 1.0000 - val_loss: 0.6804 - val_accuracy: 0.5714\n",
      "Epoch 8/10\n",
      "33/33 [==============================] - 0s 8ms/step - loss: 0.0382 - accuracy: 1.0000 - val_loss: 0.6628 - val_accuracy: 0.6286\n",
      "Epoch 9/10\n",
      "33/33 [==============================] - 0s 9ms/step - loss: 0.0270 - accuracy: 1.0000 - val_loss: 0.5951 - val_accuracy: 0.6571\n",
      "Epoch 10/10\n",
      "33/33 [==============================] - 0s 7ms/step - loss: 0.0242 - accuracy: 1.0000 - val_loss: 0.6723 - val_accuracy: 0.6857\n",
      "INFO:tensorflow:Assets written to: EEG_model_MI\\assets\n"
     ]
    }
   ],
   "source": [
    "#print([x_train_arr[i].shape for i in range(len(x_train_arr))])\n",
    "EEG_model_MI.fit([x_train_arr[i] for i in range(len(x_train_arr))], y_train, batch_size=batch_size,\n",
    "          epochs=n_epochs,\n",
    "          verbose=1,\n",
    "          validation_data=([x_test_arr[i] for i in range(len(x_test_arr))], y_test))\n",
    "EEG_model_MI.save(\"EEG_model_MI\")"
   ]
  },
  {
   "cell_type": "code",
   "execution_count": 27,
   "metadata": {},
   "outputs": [
    {
     "name": "stdout",
     "output_type": "stream",
     "text": [
      "18/18 [==============================] - 0s 2ms/step - loss: 0.6723 - accuracy: 0.6857\n"
     ]
    },
    {
     "data": {
      "text/plain": [
       "[0.6722670793533325, 0.6857143044471741]"
      ]
     },
     "execution_count": 27,
     "metadata": {},
     "output_type": "execute_result"
    }
   ],
   "source": [
    "EEG_model_MI.evaluate([x_test_arr[i] for i in range(len(x_test_arr))], y_test, batch_size = 2)"
   ]
  },
  {
   "cell_type": "code",
   "execution_count": null,
   "metadata": {},
   "outputs": [],
   "source": []
  },
  {
   "cell_type": "code",
   "execution_count": null,
   "metadata": {},
   "outputs": [],
   "source": []
  }
 ],
 "metadata": {
  "kernelspec": {
   "display_name": "Python 3",
   "language": "python",
   "name": "python3"
  },
  "language_info": {
   "codemirror_mode": {
    "name": "ipython",
    "version": 3
   },
   "file_extension": ".py",
   "mimetype": "text/x-python",
   "name": "python",
   "nbconvert_exporter": "python",
   "pygments_lexer": "ipython3",
   "version": "3.7.4"
  }
 },
 "nbformat": 4,
 "nbformat_minor": 2
}
